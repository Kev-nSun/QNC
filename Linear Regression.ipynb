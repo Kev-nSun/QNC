{
 "cells": [
  {
   "cell_type": "markdown",
   "metadata": {
    "id": "pKIiY6p3GRFq"
   },
   "source": [
    "# Definitions"
   ]
  },
  {
   "cell_type": "markdown",
   "metadata": {
    "id": "x7VmLUr5GTNw"
   },
   "source": [
    "Linear regression is a common way to measure associations between a dependent, measured random variable ($Y$) and a set of independent predictors ($X$).\n",
    "\n",
    "**Simple linear regression** uses just one predictor:\n",
    "\n",
    "$\\quad y_i=\\beta_0+\\beta_1x_1+\\epsilon_i$\n",
    "\n",
    "where $\\beta_0$ and $\\beta_1$ are the \"beta weights\" describing the y-intercept and slope, respectively, of the line describing the relationship between $X$ and $Y$, and $\\epsilon_i$ tells us that the relationship is noisy (more specifically, that the measured linear relationship is corrupted by additive Gaussian noise).\n",
    "\n",
    "**Multiple linear regression** uses multiple predictors:\n",
    "\n",
    "$\\quad y_i=\\beta_0+\\beta_1x_1+\\beta_2x_2\\:+ ... +\\:\\epsilon_i$\n",
    "\n",
    "**General linear models**, which we will not consider further here, are even more general and allow the value of $Y$ to be a vector and not just a scalar on each trial.\n",
    "\n",
    "We typically use linear regression to do any or all of the following:\n",
    "\n",
    "1\\. Infer if a measured variable $Y$ is associated with another variable (predictor) of set of variables (predictors) $X$. This is a hypothesis test. For example, to test if there is a positive relationship between two variables: as you are given more ice cream to eat ($X$ variable), does your body weight ($Y$ variable) change (increase or decrease)? A *p*-value can be assigned to this association; more below on this.\n",
    "\n",
    "2\\. What is the strength of the association? How tightly are these two variables associated? A positive beta weight implies a positive relationship (both go up/down at the same time), whereas a negative value implies a negative relationship (they go in opposite directions).\n",
    "\n",
    "It is critical to remember that unlike a correlation coefficient, whose magnitude always varies between -1 and 1 independently of the magnitude of the quantities being correlated, in linear regression the magnitude of any given beta weight depends critically on the units and magnitudes of the quantities used in the regression. Therefore, comparing beta weights from two different regressions (or even from different terms in the same multiple linear regression equation, if the predictors are not independent!) is not always straightforward, as discussed [here](http://www.glmj.org/archives/articles/Ziglari_v43n2.pdf).\n",
    "\n",
    "One way around this problem is to use standardized linear regression, in which the same linear model is used but applied to standardized variables. That is, each of the independent and dependent variables are converted in units of z-score: subtract the sample mean and divide by the sample standard deviation.\n",
    "\n",
    "3\\. The equation that describes the relationship can be used to predict unknown values. That is, once the values of the betas in the above equations are known, they can be used with new values of the independent variables to predict the value of the dependent variable under those conditions.\n",
    "\n",
    "There are some assumptions in order to use linear regression. For example, for any value of $X$ there exists a normal distribution of $Y$ values, and the relationship between $X$ and $Y$ is linear. Make sure that you always look at your data first (e.g., in scatterplots) to get a first-pass impression if these assumptions are reasonable."
   ]
  },
  {
   "cell_type": "markdown",
   "metadata": {
    "id": "IyCyVIIDH0rb"
   },
   "source": [
    "# Calculating the slope of the regression line and its intercept"
   ]
  },
  {
   "cell_type": "markdown",
   "metadata": {
    "id": "sYDtxlCZH5BC"
   },
   "source": [
    "The **slope** $b=\\frac{\\sum{X_iY_i-\\frac{\\sum{X_i}\\sum{Y_i}}{n}}}{\\sum{X^2_i-\\frac{(\\sum{X_i})^2}{n}}}$, where *i* is the individual values of $X$ an $Y$ and *n* is the number of observations.  This calculation is the best fit or best estimate of the slope, given your measurements. It is best in the sense that it tries to minimize the distance (in a least squares sense) between $Y_{pred}$ and all $Y_i$.\n",
    "\n",
    "The **intercept** $a=Y_{avg} - bX_{avg}$, where $Y_{avg}$ and $X_{avg}$ are the average values of $X$ and $Y$."
   ]
  },
  {
   "cell_type": "markdown",
   "metadata": {
    "id": "xDpz-ktIJGhf"
   },
   "source": [
    "# Null hypotheses for linear regression\n"
   ]
  },
  {
   "cell_type": "markdown",
   "metadata": {
    "id": "c-qA27fbJM6k"
   },
   "source": [
    "For the slope, this test can be conceptualized in two ways:\n",
    "\n",
    "1\\. $H_0: b=0$. Here an [analysis of variance](https://colab.research.google.com/drive/1wPjM-On_ktPzcV4xv5iP5nW8t0IPBWz1?usp=sharing) and an *F*-statistic ($df=n-2$) is used to support or refute the null hypothesis.\n",
    "\n",
    "2\\. (More general) $H_0:b=b_0$, where $b_0$ can be any value. Here, a 2-tailed [*t*-test](https://colab.research.google.com/drive/1M7xjaMwJUEyULPHfXc3tWG6-WVjCl-uQ?usp=sharing) can be used to test the null hypothesis. 1-tailed *t*-tests can also be used to test null hypotheses such as $H_0:b≤0$ or $H_0:b≥0$.\n",
    "\n"
   ]
  },
  {
   "cell_type": "markdown",
   "metadata": {
    "id": "6UC6Zg966XRY"
   },
   "source": [
    "# Confidence intervals in linear regression"
   ]
  },
  {
   "cell_type": "markdown",
   "metadata": {
    "id": "EQC-5Cti7Vui"
   },
   "source": [
    "Confidence intervals in linear regression are based on the standard errors of the estimates of the regression parameters and can be computed using the [*t* distribution](https://colab.research.google.com/drive/1Q_Du5NK71Rc1qu-byh8dy8Fs39uvR_4n?usp=sharing):\n",
    "\n",
    "For the slope, the $100(1-\\alpha)$ confidence interval is defined as:\n",
    "\n",
    "$\\quad b\\pm t_{\\alpha/2,n-2}\\times\\sqrt{\\frac{MSE}{\\sum(x_i-\\bar{x})^2}}$, where MSE is the mean squared error [defined in the ANOVA tutorial](https://colab.research.google.com/drive/1wPjM-On_ktPzcV4xv5iP5nW8t0IPBWz1?usp=sharing).\n",
    "\n",
    "For the intercept, the $100(1-\\alpha)$ confidence interval is defined as:\n",
    "\n",
    "$\\quad a\\pm t_{\\alpha/2,n-2}\\times\\sqrt{\\frac{MSE}{n}}$."
   ]
  },
  {
   "cell_type": "markdown",
   "metadata": {
    "id": "EI84_xI77WZH"
   },
   "source": [
    "# Sample size and power"
   ]
  },
  {
   "cell_type": "markdown",
   "metadata": {
    "id": "4dGvHbgR7X4G"
   },
   "source": [
    "Like with all experiments, it is always a good idea to get a sense of how much data you will need to reject $H_0$. See [here](https://colab.research.google.com/drive/1wTKRgKK5eDUya7FZRHeu1RaoY7kuhiGi?usp=sharing) for how to perform a power analysis using a *t*-test."
   ]
  },
  {
   "cell_type": "markdown",
   "metadata": {
    "id": "nvmWeSSHSF95"
   },
   "source": [
    "# Neuroscience Examples"
   ]
  },
  {
   "cell_type": "markdown",
   "metadata": {
    "id": "vAVidQDc8wIT"
   },
   "source": [
    "## Example 1: London Taxi Drivers"
   ]
  },
  {
   "cell_type": "markdown",
   "metadata": {
    "id": "hsGDKKtU82yq"
   },
   "source": [
    "Perhaps one of the more famous early studies using MRI and fMRI to relate behavior to underlying neuroanatomy are the studies that looked at relationships between experience as a taxi-cab drivers in London and hippocampus size. In [the first study](https://www.pnas.org/content/97/8/4398), they found a correlation between hippocampal size (in the posterior region]) and time as a taxi-cab driver. In London, taxi drivers have to take a test showing their knowledge of the streets of London. Here is one of their key findings:\n",
    "\n",
    "![](https://drive.google.com/uc?export=view&id=1ozXY-A4yvF8NNgY6jwD8ZuiIjsjQwYjZ)\n",
    "\n",
    "**Legend**: The volume of gray matter in the right hippocampus was found to correlate significantly with the amount of time spent learning to be and practicing as a licensed London taxi driver, positively in the right posterior hippocampus.\n",
    "\n",
    "Without getting into details of the science itself, do you think a liner regression is a proper way to analyze this data set? Are the data linear? Why or why not? If not, how does that weaken any interpretation of the data?\n",
    "\n",
    "In a [follow-up study](https://onlinelibrary.wiley.com/doi/epdf/10.1002/hipo.20233), they compared taxi cab drivers with bus drivers and found a correlation between years of driving experience and hippocampal size for the taxi cab drivers but not for the bus drivers. They argued that the basis for these results is the observation that bus drivers drive the same route everyday, whereas taxi cab drivers have to know the entire city and be flexible in how they navigate the city. Can one make any sort of inference about casualty from this finding? What are the weaknesses and strengths of such a study and set of findings? \n",
    "\n"
   ]
  },
  {
   "cell_type": "markdown",
   "metadata": {
    "id": "j0jyX3MQ_J5V"
   },
   "source": [
    "## Example 2: Musical Brains"
   ]
  },
  {
   "cell_type": "markdown",
   "metadata": {
    "id": "qgiPYCno_QTT"
   },
   "source": [
    "Here is [another example](http://www.brainmusic.org/EducationalActivities/Pantev_musicians1998.pdf), in which a group of scientists attempt to relate behavioral function with changes in underlying neuroanatomy. This is not bad, mind you, but fraught with complexities. In this study, they studied how musical information was represented in the brains of musicians with perfect (absolute) pitch (i.e.,  can recognize a note or reproduce a note without any reference note) or relative pitch (need a reference note) and a control group. Here is their first figure: \n",
    "\n",
    "![](https://drive.google.com/uc?export=view&id=18C36zvXPjZ7_wk04IMD9OshVQTrAW1nB)\n",
    "\n",
    "In panel b, they plot the correlation between frequency and region of brain activation or each of the 3 groups. This correlation is done for pure tones (panel a, left; like those produced by a tuning fork) and for piano notes (panel a, right). What do you think of their *n*? How strong of a claim do you think they can make with their regression based on their *n*? What would their confidence intervals look like? In each plot, there are 2 regression lines. In theory, can you think of a way to  decide if the two regression lines are the same or not? What would be your $H_0$? \n",
    "\n",
    "Here is their second figure:\n",
    "\n",
    "![](https://drive.google.com/uc?export=view&id=1QW773k_M3U_mWk1aMrtvZ1hULpwPARW0)\n",
    "\n",
    "Panel b is like the taxi-cab paper in which they correlate musical experience (age in which they started playing an instrument) with a measure of brain activation (the higher the mean dipole moment, the more the neurons are nominally activated). Ignoring the two types of musicians, what is the take-home message from the graph? Is it ok to treat both sets of musicians as one group? What assumptions would you have to make? What tests do you think you should do(qualitatively speaking)? Do you think you should report (if this was your paper] the regression between moment and the two groups separately? "
   ]
  },
  {
   "cell_type": "markdown",
   "metadata": {
    "id": "RzC55KsbVrvw"
   },
   "source": [
    "# Exercises"
   ]
  },
  {
   "cell_type": "code",
   "execution_count": 1,
   "metadata": {},
   "outputs": [],
   "source": [
    "import numpy as np\n",
    "import matplotlib.pyplot as plt\n",
    "import scipy.stats as stats\n",
    "from sklearn.linear_model import LinearRegression\n",
    "import statsmodels.api as sm\n",
    "import math as math"
   ]
  },
  {
   "cell_type": "markdown",
   "metadata": {
    "id": "bki88QRVSaj8"
   },
   "source": [
    "Using the following data set to investigate the relationship between Age and Wing Length, and use the data to generate answers to the prompts below:\n",
    "\n",
    "Age\t| Wing Length\n",
    "-- | --\n",
    "3\t| 1.4\n",
    "4\t| 1.5\n",
    "5\t| 2.2\n",
    "6\t| 2.4\n",
    "7\t| 3.1\n",
    "8\t| 3.2\n",
    "9\t| 3.2\n",
    "11\t| 3.9\n",
    "12\t| 4.1\n",
    "14\t| 4.7\n",
    "15\t| 4.5\n",
    "16\t| 5.2\n",
    "17 | 5.0\n",
    "\n",
    "Answers to the exercises below will be found [here](https://github.com/PennNGG/Quantitative-Neuroscience/tree/master/Answers%20to%20Exercises/Python) after the due date."
   ]
  },
  {
   "cell_type": "markdown",
   "metadata": {
    "id": "zIfgeegzTlJl"
   },
   "source": [
    "##### 1\\. Plot the relationship between Age and Wing Length."
   ]
  },
  {
   "cell_type": "code",
   "execution_count": 2,
   "metadata": {},
   "outputs": [
    {
     "data": {
      "image/png": "[encoded data removed]",
      "text/plain": [
       "<Figure size 432x288 with 1 Axes>"
      ]
     },
     "metadata": {
      "needs_background": "light"
     },
     "output_type": "display_data"
    }
   ],
   "source": [
    "age = [3, 4, 5, 6, 7, 8, 9, 11, 12, 14, 15, 16, 17]\n",
    "wing_length = [1.4, 1.5, 2.2, 2.4, 3.1, 3.2, 3.2, 3.9, 4.1, 4.7, 4.5, 5.2, 5.0]\n",
    "\n",
    "# start by showing the data\n",
    "plt.plot(age,wing_length,'ko',markerfacecolor='k')\n",
    "plt.xlabel('Age')\n",
    "plt.ylabel('Wing Length')\n",
    "plt.show()"
   ]
  },
  {
   "cell_type": "markdown",
   "metadata": {
    "id": "v4ihoOv0TzTk"
   },
   "source": [
    "##### 2\\. Calculate and plot the regression line."
   ]
  },
  {
   "cell_type": "code",
   "execution_count": 3,
   "metadata": {},
   "outputs": [
    {
     "name": "stdout",
     "output_type": "stream",
     "text": [
      "[[ 1.  3.]\n",
      " [ 1.  4.]\n",
      " [ 1.  5.]\n",
      " [ 1.  6.]\n",
      " [ 1.  7.]\n",
      " [ 1.  8.]\n",
      " [ 1.  9.]\n",
      " [ 1. 11.]\n",
      " [ 1. 12.]\n",
      " [ 1. 14.]\n",
      " [ 1. 15.]\n",
      " [ 1. 16.]\n",
      " [ 1. 17.]]\n",
      "[intercept, slope] = [0.82962436 0.26468412]\n",
      "intercept = 0.8296243597040407,  slope =0.2646841206602163\n",
      "r = 0.9815203776816279,  r2 = 0.9633822518042855,  p = 3.0097431724571258e-09,  std_err = 0.015558869602001984\n"
     ]
    },
    {
     "data": {
      "image/png": "[encoded data removed]",
      "text/plain": [
       "<Figure size 432x288 with 1 Axes>"
      ]
     },
     "metadata": {
      "needs_background": "light"
     },
     "output_type": "display_data"
    }
   ],
   "source": [
    "## \"manual\" regression via least-squares fitting\n",
    "\n",
    "# create the design matrix\n",
    "desmat = np.vstack((np.ones(len(age)),age)).T\n",
    "print(desmat)\n",
    "\n",
    "# compute the beta parameters (regression coefficients)\n",
    "beta = np.linalg.lstsq(desmat,wing_length,rcond=None)[0]\n",
    "print(f'[intercept, slope] = {beta}')\n",
    "\n",
    "# predicted data values\n",
    "yHat = desmat@beta\n",
    "\n",
    "##----------## now with scipy\n",
    "slope,intercept,r,p,std_err = stats.linregress(age,wing_length)\n",
    "print(f'intercept = {intercept},  slope ={slope}')\n",
    "print(f'r = {r},  r2 = {r*r},  p = {p},  std_err = {std_err}')\n",
    "\n",
    "## show the predicted results on top of the \"real\" data\n",
    "\n",
    "# show previous data\n",
    "plt.plot(age,wing_length,'ko',markerfacecolor='k')\n",
    "\n",
    "# predicted results\n",
    "plt.plot(age,yHat,'s-')\n",
    "\n",
    "# show the residuals\n",
    "for i in range(len(age)):\n",
    "    plt.plot([age[i],age[i]],[wing_length[i], yHat[i]],'m--')\n",
    "    \n",
    "\n",
    "plt.legend(('Data (wing_length)','Model ($\\^{y}$)','Residuals'))\n",
    "\n",
    "plt.xlabel('Age')\n",
    "plt.ylabel('Wing Length')\n",
    "plt.show()\n"
   ]
  },
  {
   "cell_type": "markdown",
   "metadata": {
    "id": "XqoZSFdZU5zg"
   },
   "source": [
    "##### 3\\. Can you reject $H_0:b=0$?"
   ]
  },
  {
   "cell_type": "markdown",
   "metadata": {},
   "source": [
    "https://colab.research.google.com/drive/1IvRv2nlhEQ9QRUC6pqZ0snNL2NYp1t0N#scrollTo=To3hA26GKjv0\n",
    "An ANOVA, if the null hypothesis is rejected, just tells you that the means are different. Which ones are different? Are they all different? Or is just one different from the rest? To answer these questions, you need to do post-hoc multiple comparisons. Unfortunately, there is no one truly accepted method or test. Two very common ones are the Tukey test, which is also known as the \"honestly significance difference\" test, and the Scheffé test.Each test has somewhat different assumptions and is more or less robust to departures from these assumptions.\n",
    "\n",
    "The Scheffé test allows you to test for all combinations of $H_0: \\mu_B - \\mu_A=0$. Also, it is a very easy statistic to compute: \n",
    "\n",
    "if $\\mu_B-\\mu_A > S_{crit}$, then reject the null hypothesis, where\n",
    "\n",
    "$\\quad S_{crit}=\\sqrt{(k-1)\\times F_{alpha, k-1, N-k}}$, *k* is the number of groups, and *N* is the number of groups *x* the number of samples/group (assume equal numbers per gropu).\n",
    "\n",
    "\n"
   ]
  },
  {
   "cell_type": "markdown",
   "metadata": {},
   "source": [
    "y = intercept + β*x\n",
    "\n",
    "y: independent variable\n",
    "\n",
    "β: regression co-efficient\n",
    "\n",
    "x: dependent variable\n",
    "\n",
    "In this case,\n",
    "\n",
    "The null hypothesis H0 would be: β= 0 i.e predictor x is not able to explain the variance of the independent variable y.\n",
    "Alternative hypothesis H1 would be: β ≠ 0 i.e x is significant in predicting the value of y.\n",
    "\n",
    "Since here we have only one predictor a T-test should be enough. However, in reality, our model is going to include a number of independent variables. This is where F-statistic comes into play.\n",
    "\n",
    "https://medium.com/analytics-vidhya/f-statistic-understanding-model-significance-using-python-c1371980b796\n"
   ]
  },
  {
   "cell_type": "code",
   "execution_count": 4,
   "metadata": {},
   "outputs": [
    {
     "name": "stdout",
     "output_type": "stream",
     "text": [
      "F-statistics = 289.4007767273745\n"
     ]
    }
   ],
   "source": [
    "#define F-test function by formula \n",
    "def f_test(y, yh, k):\n",
    "    # y is real values\n",
    "    # yh is the yHat -- the prodicted y values\n",
    "    # K is the number of parameters.  here is 2: intercept and co-efficient (slope)\n",
    "    yavg = np.mean(y)\n",
    "    ssm = 0\n",
    "    sse = 0\n",
    "    \n",
    "    for i in range(len(y)):\n",
    "        sse = sse + (y[i]-yh[i])**2\n",
    "        ssm = ssm + (yh[i]-yavg)**2\n",
    "    \n",
    "    f = (ssm/(k-1))/(sse/(len(y)-k))\n",
    "    \n",
    "    return f\n",
    "\n",
    "#perform F-test\n",
    "ft = f_test(wing_length, yHat, 2)\n",
    "\n",
    "print(f'F-statistics = {ft}')\n",
    "\n"
   ]
  },
  {
   "cell_type": "code",
   "execution_count": 5,
   "metadata": {},
   "outputs": [
    {
     "name": "stdout",
     "output_type": "stream",
     "text": [
      "[3, 4, 5, 6, 7, 8, 9, 11, 12, 14, 15, 16, 17]\n",
      "<F test: F=array([[289.40077673]]), p=3.009743172457084e-09, df_denom=11, df_num=1>\n"
     ]
    }
   ],
   "source": [
    "# Here use the Python package functions\n",
    "x=age\n",
    "y=wing_length\n",
    "\n",
    "X = sm.add_constant(x)\n",
    "print(x)\n",
    "\n",
    "results = sm.OLS(y, X).fit()\n",
    "\n",
    "A = np.identity(len(results.params))\n",
    "A = A[1:,:]\n",
    "print(results.f_test(A))"
   ]
  },
  {
   "cell_type": "markdown",
   "metadata": {},
   "source": [
    "Here df1 = 1 and df2 = 11.  So to find the F-critical value we can look up the f-distribution table for the alpha value of 0.05.\n",
    "\n",
    "Look up table for F Table for α = 0.05  http://www.socr.ucla.edu/Applets.dir/F_Table.html\n",
    "\n",
    "F-critical = 4.8443\t  (α = 0.05, df1 = 1 and df2 = 11)   F-statistics = 289.4007767273745\n",
    "\n",
    "F-statistics (289.4007767273745)  >   F-critical (4.8443),  we reject the null hypothesis (b=0), which means that the independent variables are jointly significant in explaining the variance of the dependent variable.\n"
   ]
  },
  {
   "cell_type": "markdown",
   "metadata": {
    "id": "sU0UjR6uVMl2"
   },
   "source": [
    "##### 4\\. Calculate and plot the confidence intervals on the slope of the regression."
   ]
  },
  {
   "cell_type": "code",
   "execution_count": 6,
   "metadata": {},
   "outputs": [
    {
     "name": "stdout",
     "output_type": "stream",
     "text": [
      "formula -- slope = 0.2646841206602163   95% CI: [0.135302  0.394066]\n",
      "formula -- intercept = 0.829624    95% CI: [0.239654  1.419595]\n",
      "CI between solid lines\n",
      "\n",
      "\n",
      "The following using Python stats.linregress function: \n",
      "R-squared: 0.963382\n",
      "slope = 0.264684   95% CI: [0.124031  0.405337]\n",
      "intercept = 0.829624    95% CI: [-0.686758  2.346007]\n",
      "CI between dotted lines\n",
      "\n",
      "\n"
     ]
    },
    {
     "data": {
      "image/png": "[encoded data removed]",
      "text/plain": [
       "<Figure size 432x288 with 1 Axes>"
      ]
     },
     "metadata": {
      "needs_background": "light"
     },
     "output_type": "display_data"
    }
   ],
   "source": [
    "#Confidence intervals by above formula\n",
    "\n",
    "def MSE(y, yh):\n",
    "    # y is real values\n",
    "    # yh is the yHat -- the prodicted y values\n",
    "    m = 0\n",
    "    \n",
    "    for i in range(len(y)):\n",
    "        m = m + (y[i]-yh[i])**2\n",
    "\n",
    "    mse = m/len(y)\n",
    "    \n",
    "    return mse\n",
    "\n",
    "def varX(x):\n",
    "    xavg = np.mean(x)\n",
    "    ex = 0\n",
    "    \n",
    "    for i in range(len(x)):\n",
    "        ex = ex + (x[i]-xavg)**2\n",
    "    \n",
    "    return ex\n",
    "\n",
    "\n",
    "ts = abs(stats.norm.ppf(0.05/2, len(age)-2))   \n",
    "\n",
    "dcislope=ts*math.sqrt(MSE(wing_length, yHat)/varX(age))\n",
    "dciinte = ts*math.sqrt(MSE(wing_length, yHat)/len(age))\n",
    "\n",
    "cislopeup = beta[1]+dcislope\n",
    "cislopelow = beta[1]-dcislope\n",
    "\n",
    "ciinteup = beta[0]+dciinte\n",
    "ciintelow = beta[0]-dciinte\n",
    "\n",
    "print(f\"formula -- slope = {beta[1]}   95% CI: [{cislopelow:.6f}  {cislopeup:.6f}]\")\n",
    "print(f\"formula -- intercept = {beta[0]:.6f}    95% CI: [{ciintelow:.6f}  {ciinteup:.6f}]\")\n",
    "\n",
    "plt.plot(age,wing_length,'ko',markerfacecolor='k')\n",
    "# predicted results\n",
    "plt.plot(age,yHat,'s-')\n",
    "\n",
    "ylow=desmat@[ciintelow, cislopelow]\n",
    "yup=desmat@[ciinteup, cislopeup]\n",
    "plt.plot(age, ylow, linestyle='-')  # solid\n",
    "plt.plot(age, yup, linestyle='-')  # solid\n",
    "plt.xlabel('Age')\n",
    "plt.ylabel('Wing Length')\n",
    "\n",
    "print('CI between solid lines')\n",
    "\n",
    "# below using python package stats.linregress, but the intercept CI values are off a lot\n",
    "\n",
    "res = stats.linregress(age,wing_length)\n",
    "\n",
    "#Coefficient of determination (R-squared):\n",
    "\n",
    "print(\"\\n\\nThe following using Python stats.linregress function: \")\n",
    "print(f\"R-squared: {res.rvalue**2:.6f}\")\n",
    "\n",
    "#Calculate 95% confidence interval on slope and intercept:\n",
    "pcislopeup=res.slope+ts*res.stderr\n",
    "pcislopelow=res.slope-ts*res.stderr\n",
    "print(f\"slope = {res.slope:.6f}   95% CI: [{pcislopelow:.6f}  {pcislopeup:.6f}]\")\n",
    "\n",
    "pciintelow=res.intercept-ts*res.intercept_stderr\n",
    "pciinteup=res.intercept+ts*res.intercept_stderr\n",
    "print(f\"intercept = {res.intercept:.6f}    95% CI: [{pciintelow:.6f}  {pciinteup:.6f}]\")\n",
    "print('CI between dotted lines\\n\\n')\n",
    "pylow=desmat@[pciintelow, pcislopelow]\n",
    "pyup=desmat@[pciinteup, pcislopeup]\n",
    "plt.plot(age, pylow, linestyle=':')  # dotted\n",
    "plt.plot(age, pyup, linestyle=':') \n",
    "\n",
    "plt.show()"
   ]
  },
  {
   "cell_type": "markdown",
   "metadata": {
    "id": "XaEBSR97qTEP"
   },
   "source": [
    "##### 5\\. Calculate $r^2$ (the coefficient of determination)"
   ]
  },
  {
   "cell_type": "code",
   "execution_count": 7,
   "metadata": {},
   "outputs": [
    {
     "name": "stdout",
     "output_type": "stream",
     "text": [
      "r2 = 0.9633822518042857\n"
     ]
    }
   ],
   "source": [
    "#define R2 function\n",
    "def r2(y, yh):\n",
    "    yavg = np.mean(y)\n",
    "    sse = 0\n",
    "    sst = 0\n",
    "    \n",
    "    for i in range(len(y)):\n",
    "        sse = sse + (y[i]-yh[i])**2\n",
    "        sst = sst + (y[i]-yavg)**2\n",
    "    \n",
    "    f = 1-sse/sst\n",
    "    \n",
    "    return f\n",
    "\n",
    "print(f'r2 = {r2(wing_length, yHat)}')"
   ]
  },
  {
   "cell_type": "markdown",
   "metadata": {
    "id": "mywqPzz3Vg0I"
   },
   "source": [
    "##### 6\\. Calculate Pearson's *r*."
   ]
  },
  {
   "cell_type": "code",
   "execution_count": 8,
   "metadata": {},
   "outputs": [
    {
     "name": "stdout",
     "output_type": "stream",
     "text": [
      "Pearson correlation coefficient = 0.9815203776816279\n"
     ]
    }
   ],
   "source": [
    "corr = np.corrcoef(age,wing_length)\n",
    "\n",
    "print(f'Pearson correlation coefficient = {corr[1,0]}')"
   ]
  },
  {
   "cell_type": "markdown",
   "metadata": {
    "id": "qYW4bBQ7Vxa-"
   },
   "source": [
    "##### 7\\. Add some noise to the data and see how the regression changes."
   ]
  },
  {
   "cell_type": "code",
   "execution_count": 9,
   "metadata": {},
   "outputs": [
    {
     "name": "stdout",
     "output_type": "stream",
     "text": [
      "[[ 1.  3.]\n",
      " [ 1.  4.]\n",
      " [ 1.  5.]\n",
      " [ 1.  6.]\n",
      " [ 1.  7.]\n",
      " [ 1.  8.]\n",
      " [ 1.  9.]\n",
      " [ 1. 11.]\n",
      " [ 1. 12.]\n",
      " [ 1. 14.]\n",
      " [ 1. 15.]\n",
      " [ 1. 16.]\n",
      " [ 1. 17.]]\n",
      "Wing Length with Noise = [0.95370546 0.91284132 3.00321891 1.19141646 2.95593484 3.13333176\n",
      " 3.05575799 4.4636387  4.2952313  3.91447299 3.95507686 4.7182662\n",
      " 5.02515064]\n",
      "[intercept, slope] = [0.61627924 0.26430247]\n",
      "intercept = 0.61627924466308,  slope =0.26430246658547074\n",
      "r = 0.8879634070098468,  r2 = 0.7884790121885348,  p = 5.0563313911261104e-05,  std_err = 0.041274948278754435\n"
     ]
    },
    {
     "data": {
      "image/png": "[encoded data removed]",
      "text/plain": [
       "<Figure size 432x288 with 1 Axes>"
      ]
     },
     "metadata": {
      "needs_background": "light"
     },
     "output_type": "display_data"
    }
   ],
   "source": [
    "## \"manual\" regression via least-squares fitting\n",
    "\n",
    "# create the design matrix\n",
    "desmat = np.vstack((np.ones(len(age)),age)).T\n",
    "print(desmat)\n",
    "\n",
    "# add the wing length with noise\n",
    "wing_length_wn = wing_length + np.random.normal(loc=0, scale=1, size=len(age))\n",
    "print(f'Wing Length with Noise = {wing_length_wn}')\n",
    "# compute the beta parameters (regression coefficients)\n",
    "beta = np.linalg.lstsq(desmat,wing_length_wn,rcond=None)[0]\n",
    "print(f'[intercept, slope] = {beta}')\n",
    "\n",
    "# predicted data values\n",
    "yHat = desmat@beta\n",
    "\n",
    "##----------## now with scipy\n",
    "slope,intercept,r,p,std_err = stats.linregress(age,wing_length_wn)\n",
    "print(f'intercept = {intercept},  slope ={slope}')\n",
    "print(f'r = {r},  r2 = {r*r},  p = {p},  std_err = {std_err}')\n",
    "\n",
    "## show the predicted results on top of the \"real\" data\n",
    "\n",
    "# show previous data\n",
    "plt.plot(age,wing_length_wn,'ko',markerfacecolor='k')\n",
    "\n",
    "# predicted results\n",
    "plt.plot(age,yHat,'s-')\n",
    "\n",
    "# show the residuals\n",
    "for i in range(len(age)):\n",
    "    plt.plot([age[i],age[i]],[wing_length_wn[i], yHat[i]],'m--')\n",
    "    \n",
    "\n",
    "plt.legend(('Data (wing_length)','Model ($\\^{y}$)','Residuals'))\n",
    "\n",
    "plt.xlabel('Age')\n",
    "plt.ylabel('Wing Length')\n",
    "plt.show()"
   ]
  },
  {
   "cell_type": "markdown",
   "metadata": {
    "id": "UqoNXyuxP-go"
   },
   "source": [
    "# Additional Resources\n"
   ]
  },
  {
   "cell_type": "markdown",
   "metadata": {
    "id": "clnBO4FU28El"
   },
   "source": [
    "- Differences between correlation and regression are discussed [here](https://www.bmj.com/about-bmj/resources-readers/publications/statistics-square-one/11-correlation-and-regression) and [here](http://www.biostathandbook.com/linearregression.html).\n",
    "\n",
    "- Fun applets are [here](https://www.desmos.com/calculator/jwquvmikhr) and [here](http://www.shodor.org/interactivate/activities/Regression/).\n",
    "\n",
    "- Working with linear regression in [Matlab](https://www.mathworks.com/help/matlab/data_analysis/linear-regression.html), [R](https://www.tutorialspoint.com/r/r_linear_regression.htm), and [Python](https://realpython.com/linear-regression-in-python/)."
   ]
  },
  {
   "cell_type": "markdown",
   "metadata": {
    "id": "tteEm2Qlgbb3"
   },
   "source": [
    "# Credits\n",
    "\n",
    "Copyright 2021 by Joshua I. Gold, University of Pennsylvania"
   ]
  }
 ],
 "metadata": {
  "colab": {
   "collapsed_sections": [
    "IyCyVIIDH0rb",
    "xDpz-ktIJGhf",
    "6UC6Zg966XRY",
    "EI84_xI77WZH",
    "NUeNn8deHBch",
    "zIfgeegzTlJl",
    "v4ihoOv0TzTk",
    "XqoZSFdZU5zg",
    "sU0UjR6uVMl2",
    "mywqPzz3Vg0I",
    "qYW4bBQ7Vxa-"
   ],
   "name": "Linear Regression",
   "provenance": [
    {
     "file_id": "11kgk7FpLgbSlA4pjS4cCH1B5mYDUgj5b",
     "timestamp": 1626738154275
    },
    {
     "file_id": "1dvkIh9KgmzwwJ7phFBxkHmS3nFTKN_yo",
     "timestamp": 1626368223618
    },
    {
     "file_id": "1AmfvDhhfviRQFvONiUVUba_6hof8RDp6",
     "timestamp": 1626367834690
    },
    {
     "file_id": "1wTKRgKK5eDUya7FZRHeu1RaoY7kuhiGi",
     "timestamp": 1626364730636
    },
    {
     "file_id": "1rdJMusMZDTaM9OGsyt27tCVkSasmRj2O",
     "timestamp": 1626357708093
    },
    {
     "file_id": "1HW0L_d5Wpod3jbnY3iG7mLhMG6yWHvF2",
     "timestamp": 1626350171621
    },
    {
     "file_id": "1-KxH3FCq5rDyyO33HXxewIv-kKldkINi",
     "timestamp": 1626290714843
    },
    {
     "file_id": "14S2ca44h8TKC1hFXjk5ktwBYpGU6R5S-",
     "timestamp": 1624411796822
    }
   ]
  },
  "kernelspec": {
   "display_name": "Python 3 (ipykernel)",
   "language": "python",
   "name": "python3"
  },
  "language_info": {
   "codemirror_mode": {
    "name": "ipython",
    "version": 3
   },
   "file_extension": ".py",
   "mimetype": "text/x-python",
   "name": "python",
   "nbconvert_exporter": "python",
   "pygments_lexer": "ipython3",
   "version": "3.9.12"
  },
  "vscode": {
   "interpreter": {
    "hash": "aee8b7b246df8f9039afb4144a1f6fd8d2ca17a180786b69acc140d282b71a49"
   }
  }
 },
 "nbformat": 4,
 "nbformat_minor": 1
}
