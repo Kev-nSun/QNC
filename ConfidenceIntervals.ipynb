{
 "cells": [
  {
   "cell_type": "code",
   "execution_count": 1,
   "id": "7ea999eb",
   "metadata": {},
   "outputs": [],
   "source": [
    "# import libraries\n",
    "import matplotlib.pyplot as plt\n",
    "import numpy as np\n",
    "import scipy.stats as stats\n",
    "import math\n",
    "import statistics"
   ]
  },
  {
   "cell_type": "code",
   "execution_count": 2,
   "id": "5c6114e8",
   "metadata": {},
   "outputs": [],
   "source": [
    "num_samples = [5, 10, 20, 40, 80, 160, 1000]\n",
    "desired_mean = 10\n",
    "desired_std_dev = 2.0\n",
    "confidence = 95 # in percent\n"
   ]
  },
  {
   "cell_type": "code",
   "execution_count": 3,
   "id": "8e2b87c0",
   "metadata": {},
   "outputs": [
    {
     "name": "stdout",
     "output_type": "stream",
     "text": [
      "size: 5   actual mean = 10.0514 actual stdv = 2.1061\n",
      "A 95% confidence level interval:    [9.919370120091392, 10.183506023295744]\n",
      "size: 10   actual mean = 8.4295 actual stdv = 2.1512\n",
      "A 95% confidence level interval:    [8.294609041794516, 8.564400921153954]\n",
      "size: 20   actual mean = 10.1857 actual stdv = 2.7063\n",
      "A 95% confidence level interval:    [10.015951575136759, 10.35536139605645]\n",
      "size: 40   actual mean = 10.0336 actual stdv = 1.8500\n",
      "A 95% confidence level interval:    [9.917617283375801, 10.149637835456016]\n",
      "size: 80   actual mean = 9.9633 actual stdv = 2.0305\n",
      "A 95% confidence level interval:    [9.835976722914435, 10.090627491158468]\n",
      "size: 160   actual mean = 9.9512 actual stdv = 1.9739\n",
      "A 95% confidence level interval:    [9.82743646408973, 10.074988744842505]\n",
      "size: 1000   actual mean = 10.0481 actual stdv = 2.0432\n",
      "A 95% confidence level interval:    [9.919941557346485, 10.176185660454854]\n"
     ]
    }
   ],
   "source": [
    "#1. The simple, analytic approach with large n and/or known standard deviation.\n",
    "for t in num_samples:\n",
    "    samples = np.random.normal(loc=desired_mean, scale=desired_std_dev, size=t)\n",
    "    \n",
    "    n, min_max, actual_mean, var, skew, kurt = stats.describe(samples)\n",
    "    #print(n, min_max, mean, var, skew, kurt)\n",
    "    \n",
    "    actual_std=math.sqrt(var)\n",
    "    #actual_std = statistics.stdev(samples) # Return the same value\n",
    "    \n",
    "    #The location (loc) keyword specifies the mean.\n",
    "    #The scale (scale) keyword specifies the standard deviation.\n",
    "\n",
    "    # We will assume a normal distribution\n",
    "    R = stats.norm.interval(0.05,loc=actual_mean,scale=actual_std)\n",
    "    \n",
    "    print(\"size: {}   actual mean = {:.4f} actual stdv = {:.4f}\".format(n, actual_mean, actual_std))\n",
    "    print(\"A 95% confidence level interval:   \",list(R))\n",
    "   "
   ]
  },
  {
   "cell_type": "code",
   "execution_count": 4,
   "id": "404e7d1a",
   "metadata": {},
   "outputs": [
    {
     "name": "stdout",
     "output_type": "stream",
     "text": [
      "size: 5   actual mean = 10.0549 actual stdv = 1.0983\n",
      "A 95% confidence level interval:    [ 8.69123656 11.41862113]\n",
      "size: 10   actual mean = 10.4361 actual stdv = 1.8144\n",
      "A 95% confidence level interval:    [ 9.13819764 11.7340258 ]\n",
      "size: 20   actual mean = 10.2997 actual stdv = 2.5657\n",
      "A 95% confidence level interval:    [ 9.09886892 11.5004408 ]\n",
      "size: 40   actual mean = 10.1453 actual stdv = 2.2684\n",
      "A 95% confidence level interval:    [ 9.41978342 10.87074362]\n",
      "size: 80   actual mean = 9.8356 actual stdv = 2.0382\n",
      "A 95% confidence level interval:    [ 9.38202952 10.28918967]\n",
      "size: 160   actual mean = 10.0728 actual stdv = 1.9678\n",
      "A 95% confidence level interval:    [ 9.76554905 10.38004018]\n",
      "size: 1000   actual mean = 9.9681 actual stdv = 2.0465\n",
      "A 95% confidence level interval:    [ 9.84114831 10.09513505]\n"
     ]
    }
   ],
   "source": [
    "\n",
    "#2. The simple, analytic approach with small n and unknown population standard deviation\n",
    "\n",
    "for n in num_samples:\n",
    "    samples = np.random.normal(loc=desired_mean, scale=desired_std_dev, size=n)\n",
    "\n",
    "    actual_mean = np.mean(samples)\n",
    "    actual_std = statistics.stdev(samples)\n",
    "    #actual_std = np.std(samples)   #this function is /n and stdev is /(n-1)\n",
    "    \n",
    "    # compute confidence intervals\n",
    "    citmp = (1-confidence/100)/2\n",
    "    confint = actual_mean + stats.t.ppf([citmp, 1-citmp],n-1) * actual_std/np.sqrt(n)\n",
    "    \n",
    "    \n",
    "    print(\"size: {}   actual mean = {:.4f} actual stdv = {:.4f}\".format(n, actual_mean, actual_std))\n",
    "    print(\"A 95% confidence level interval:   \",confint)"
   ]
  },
  {
   "cell_type": "code",
   "execution_count": 5,
   "id": "9fb5402e",
   "metadata": {},
   "outputs": [
    {
     "name": "stdout",
     "output_type": "stream",
     "text": [
      "size:     5   actual mean = 9.6232 actual stdv = 0.8857\n",
      "NumBoots: 1000    boot mean = 9.6305   boot stdv = 0.3654\n",
      "A 95% confidence level interval:    [8.958782790448506, 10.366719834209267]\n",
      "size:     10   actual mean = 10.5169 actual stdv = 2.1081\n",
      "NumBoots: 1000    boot mean = 10.5091   boot stdv = 0.6250\n",
      "A 95% confidence level interval:    [9.316260253920557, 11.723124275868104]\n",
      "size:     20   actual mean = 10.6033 actual stdv = 2.3183\n",
      "NumBoots: 1000    boot mean = 10.5985   boot stdv = 0.5088\n",
      "A 95% confidence level interval:    [9.622365187850624, 11.596061945110334]\n",
      "size:     40   actual mean = 9.8997 actual stdv = 1.5399\n",
      "NumBoots: 1000    boot mean = 9.8951   boot stdv = 0.2442\n",
      "A 95% confidence level interval:    [9.415977132828234, 10.342367392052523]\n",
      "size:     80   actual mean = 10.0281 actual stdv = 1.7002\n",
      "NumBoots: 1000    boot mean = 10.0314   boot stdv = 0.1882\n",
      "A 95% confidence level interval:    [9.655434057579493, 10.411524461494599]\n",
      "size:     160   actual mean = 9.9815 actual stdv = 1.9785\n",
      "NumBoots: 1000    boot mean = 9.9870   boot stdv = 0.1533\n",
      "A 95% confidence level interval:    [9.672503343917914, 10.274593556168947]\n",
      "size:     1000   actual mean = 9.9845 actual stdv = 1.9812\n",
      "NumBoots: 1000    boot mean = 9.9862   boot stdv = 0.0623\n",
      "A 95% confidence level interval:    [9.869202330246562, 10.10791673101746]\n"
     ]
    }
   ],
   "source": [
    "#3. Bootstrapped confidence intervals\n",
    "\n",
    "### now for bootstrapping\n",
    "numBoots  = 1000\n",
    "bootmeans = np.zeros(numBoots)\n",
    "\n",
    "for n in num_samples:\n",
    "    samples = np.random.normal(loc=desired_mean, scale=desired_std_dev, size=n)\n",
    "\n",
    "    actual_mean = np.mean(samples)\n",
    "    #actual_std = np.std(samples)\n",
    "    actual_std = statistics.stdev(samples)\n",
    "\n",
    "    # resample with replacement\n",
    "    for booti in range(numBoots):\n",
    "        bootmeans[booti] = np.mean( np.random.choice(samples,n) )\n",
    "    \n",
    "    boot_mean = np.mean(bootmeans)\n",
    "    #boot_std = np.std(bootmeans)\n",
    "    boot_std = statistics.stdev(bootmeans)\n",
    "\n",
    "    # find confidence intervals\n",
    "    confint = [0,0] # initialize\n",
    "    confint[0] = np.percentile(bootmeans,(100-confidence)/2)\n",
    "    confint[1] = np.percentile(bootmeans,100-(100-confidence)/2)\n",
    "    \n",
    "    print(\"size:     {}   actual mean = {:.4f} actual stdv = {:.4f}\".format(n, actual_mean, actual_std))\n",
    "    print(\"NumBoots: {}    boot mean = {:.4f}   boot stdv = {:.4f}\".format(numBoots,  boot_mean,  boot_std))\n",
    "    print(\"A 95% confidence level interval:   \",confint)"
   ]
  },
  {
   "cell_type": "code",
   "execution_count": null,
   "id": "f8dc9ca8",
   "metadata": {},
   "outputs": [],
   "source": [
    "#4. Bayesian credible intervals"
   ]
  },
  {
   "cell_type": "code",
   "execution_count": null,
   "id": "be447c9d",
   "metadata": {},
   "outputs": [],
   "source": []
  }
 ],
 "metadata": {
  "kernelspec": {
   "display_name": "Python 3",
   "language": "python",
   "name": "python3"
  },
  "language_info": {
   "codemirror_mode": {
    "name": "ipython",
    "version": 3
   },
   "file_extension": ".py",
   "mimetype": "text/x-python",
   "name": "python",
   "nbconvert_exporter": "python",
   "pygments_lexer": "ipython3",
   "version": "3.8.8"
  }
 },
 "nbformat": 4,
 "nbformat_minor": 5
}
