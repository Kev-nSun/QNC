{
 "cells": [
  {
   "cell_type": "code",
   "execution_count": 1,
   "id": "2a877d7d",
   "metadata": {},
   "outputs": [
    {
     "data": {
      "image/png": "[encoded data removed]",
      "text/plain": [
       "<Figure size 432x288 with 1 Axes>"
      ]
     },
     "metadata": {
      "needs_background": "light"
     },
     "output_type": "display_data"
    }
   ],
   "source": [
    "import matplotlib.pyplot as plt\n",
    "import numpy as np\n",
    "\n",
    "#create lists with data\n",
    "x = [10.4, 10.8, 11.1, 10.2, 10.3, 10.2, 10.7, 10.5, 10.8, 11.2, 10.6, 11.4]\n",
    "y = [7.4, 7.6, 7.9, 7.2, 7.4, 7.1, 7.4, 7.2, 7.8, 7.7, 7.8, 8.3]\n",
    "\n",
    "#plot data\n",
    "plt.scatter(x,y)\n",
    "\n",
    "plt.xlabel(\"Wing length\")\n",
    "plt.ylabel(\"Tail length\")\n",
    "\n",
    "plt.show()\n",
    "\n",
    "#The two variables look correlated"
   ]
  },
  {
   "cell_type": "code",
   "execution_count": 50,
   "id": "cba8f429",
   "metadata": {},
   "outputs": [
    {
     "name": "stdout",
     "output_type": "stream",
     "text": [
      "The correlation coefficient calculated by equation is 0.8704.\n",
      "\n",
      "The correlation coefficient matrix using the corrcoef function is:\n",
      " [[1.         0.87035456]\n",
      " [0.87035456 1.        ]]\n"
     ]
    }
   ],
   "source": [
    "import statistics as st\n",
    "import math as math\n",
    "\n",
    "num = 0\n",
    "denom_x = 0\n",
    "denom_y = 0\n",
    "\n",
    "#find means of each variable\n",
    "x_mean = st.mean(x)\n",
    "y_mean = st.mean(y)\n",
    "\n",
    "#loop through lists to calculate summed portions of Pearson equation\n",
    "for i in range(len(x)):\n",
    "    \n",
    "    num = (x[i]-x_mean)*(y[i]-y_mean) + num\n",
    "    denom_x = (x[i]-x_mean)**2 + denom_x\n",
    "    denom_y = (y[i]-y_mean)**2 + denom_y\n",
    "\n",
    "#calculate correlation coefficient\n",
    "rxy = num/(math.sqrt(denom_x)*math.sqrt(denom_y))\n",
    "print(f'The correlation coefficient calculated by equation is {rxy:.4f}.\\n')\n",
    "\n",
    "#use corrcoef function to double check if matches\n",
    "rxy_matrix = np.corrcoef(x, y)\n",
    "print(f'The correlation coefficient matrix using the corrcoef function is:\\n {rxy_matrix}')\n"
   ]
  },
  {
   "cell_type": "code",
   "execution_count": 45,
   "id": "9b4479e0",
   "metadata": {},
   "outputs": [
    {
     "name": "stdout",
     "output_type": "stream",
     "text": [
      "The standard error of the correlation coefficient is 0.1557.\n",
      "The 95% confidence interval of the correlation coefficient is 0.5923 to 0.9632\n"
     ]
    }
   ],
   "source": [
    "#calculate standard error of rxy\n",
    "SEr = math.sqrt((1-rxy**2)/(len(x)-2))\n",
    "\n",
    "print(f'The standard error of the correlation coefficient is {SER:.4f}.')\n",
    "\n",
    "#use Fisher's z-transformation of r\n",
    "z = 0.5 * np.log((1+rxy)/(1-rxy))\n",
    "\n",
    "#compute SD of z value\n",
    "SDz = math.sqrt(1/(len(x)-3))\n",
    "\n",
    "#compute CI of z value\n",
    "CI_z_low = z-(1.96*SDz)\n",
    "CI_z_high = z+(1.96*SDz)\n",
    "\n",
    "#convert z values back to r\n",
    "CI_r_low = (math.exp(2*CI_z_low)-1)/(math.exp(2*CI_z_low)+1)\n",
    "CI_r_high = (math.exp(2*CI_z_high)-1)/(math.exp(2*CI_z_high)+1)\n",
    "\n",
    "print(f'The 95% confidence interval of the correlation coefficient is {CI_r_low:.4f} to {CI_r_high:.4f}')"
   ]
  },
  {
   "cell_type": "code",
   "execution_count": 57,
   "id": "1b5fece0",
   "metadata": {},
   "outputs": [
    {
     "name": "stdout",
     "output_type": "stream",
     "text": [
      "The t value is 5.5893 and is outside of the p < 0.05 critical range of -2.2281 to 2.2281. \n",
      "Therefore, we can reject the null hypothesis that the correlation coefficient is equal to 0.\n"
     ]
    }
   ],
   "source": [
    "import scipy.stats as st\n",
    "\n",
    "sig = 0.05\n",
    "\n",
    "#calculate t stat\n",
    "t = rxy/SEr\n",
    "\n",
    "#determine t critical values for 2-tailed t test\n",
    "crit_t_pos = st.t.ppf(1-sig/2, df = len(x)-2)\n",
    "crit_t_neg = st.t.ppf(sig/2, df = len(x)-2)\n",
    "\n",
    "if t > crit_t_pos or t < crit_t_neg:\n",
    "    print(f'The t value is {t:.4f} and is outside of the p < 0.05 critical range of {crit_t_neg:.4f} to {crit_t_pos:.4f}. \\nTherefore, we can reject the null hypothesis that the correlation coefficient is equal to 0.')\n",
    "else:\n",
    "    print(f'The t value is {t:.4f} and is within the p < 0.05 critical range of {crit_t_neg:.4f} to {crit_t_pos:.4f}. \\nTherefore, we cannot reject the null hypothesis that the correlation coefficient is equal to 0.')    \n"
   ]
  },
  {
   "cell_type": "code",
   "execution_count": 58,
   "id": "8f26c010",
   "metadata": {},
   "outputs": [
    {
     "name": "stdout",
     "output_type": "stream",
     "text": [
      "The t value is 1.0848 and is within the p < 0.05 critical range of -2.2281 to 2.2281. \n",
      "Therefore, we cannot reject the null hypothesis that the correlation coefficient is equal to 0.75.\n"
     ]
    }
   ],
   "source": [
    "#set null hypothesis r value\n",
    "rs = 0.75\n",
    "\n",
    "#convert r to z values\n",
    "z = 0.5 * np.log((1+rxy)/(1-rxy))\n",
    "zs = 0.5 * np.log((1+rs)/(1-rs))\n",
    "\n",
    "#calculate test stat lambda\n",
    "lamb = (z-zs)/math.sqrt(1/(len(x)-3))\n",
    "\n",
    "if lamb > crit_t_pos or lamb < crit_t_neg:\n",
    "    print(f'The t value is {lamb:.4f} and is outside of the p < 0.05 critical range of {crit_t_neg:.4f} to {crit_t_pos:.4f}. \\nTherefore, we can reject the null hypothesis that the correlation coefficient is equal to 0.75.')\n",
    "else:\n",
    "    print(f'The t value is {lamb:.4f} and is within the p < 0.05 critical range of {crit_t_neg:.4f} to {crit_t_pos:.4f}. \\nTherefore, we cannot reject the null hypothesis that the correlation coefficient is equal to 0.75.')    \n"
   ]
  },
  {
   "cell_type": "code",
   "execution_count": 67,
   "id": "21fdf512",
   "metadata": {},
   "outputs": [
    {
     "name": "stdout",
     "output_type": "stream",
     "text": [
      "The power needed to reject the null hypothesis of the correlation coefficient = 0 with a significance of p < 0.05, \n",
      "an expected r >= 0.5, and a sample size of 12 is 0.2161.\n"
     ]
    }
   ],
   "source": [
    "from statsmodels.stats.power import TTestIndPower\n",
    "obj = TTestIndPower()\n",
    "\n",
    "p = obj.solve_power(effect_size=0.5, nobs1= len(x), alpha=0.05, ratio=1, alternative='two-sided')\n",
    "print(f'The power needed to reject the null hypothesis of the correlation coefficient = 0 with a significance of p < 0.05, \\nan expected r >= 0.5, and a sample size of {len(x)} is {p:.4f}.')\n"
   ]
  },
  {
   "cell_type": "code",
   "execution_count": null,
   "id": "802b82e5",
   "metadata": {},
   "outputs": [],
   "source": []
  }
 ],
 "metadata": {
  "kernelspec": {
   "display_name": "Python 3 (ipykernel)",
   "language": "python",
   "name": "python3"
  },
  "language_info": {
   "codemirror_mode": {
    "name": "ipython",
    "version": 3
   },
   "file_extension": ".py",
   "mimetype": "text/x-python",
   "name": "python",
   "nbconvert_exporter": "python",
   "pygments_lexer": "ipython3",
   "version": "3.9.12"
  }
 },
 "nbformat": 4,
 "nbformat_minor": 5
}
